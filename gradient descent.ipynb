{
 "cells": [
  {
   "cell_type": "markdown",
   "id": "7032e31f",
   "metadata": {},
   "source": [
    "## Gradient Descent (경사하강법) 을 구현해보자\n",
    "\n"
   ]
  },
  {
   "cell_type": "markdown",
   "id": "f8b296a4",
   "metadata": {},
   "source": [
    "필요한 라이브러리 import"
   ]
  },
  {
   "cell_type": "code",
   "execution_count": 17,
   "id": "22a3dc57",
   "metadata": {},
   "outputs": [],
   "source": [
    "import numpy as np \n",
    "import sympy as sym  # Symbolic Mathematics\n",
    "from sympy.abc import x, y # x, y를 변수로 선언 "
   ]
  },
  {
   "cell_type": "markdown",
   "id": "e3aba1cc",
   "metadata": {},
   "source": [
    "극값에서 미분값이 0이 되므로 그때까지 이동하면서 극소값을 찾는것이 맞음.\n",
    "\n",
    "하지만, 컴퓨터로 계산할 때 미분이 정확히 0이 되는 것은 불가능 하므로, eps보다 작을 때 종료하는 조건이 필요하다."
   ]
  },
  {
   "cell_type": "markdown",
   "id": "dcfb35bf",
   "metadata": {},
   "source": [
    "우리는 다음 함수에서 경사하강법을 구현할 것임\n",
    "\n",
    "`f(x) = x**2 + 2*x + 3`"
   ]
  },
  {
   "cell_type": "code",
   "execution_count": null,
   "id": "b58a9152",
   "metadata": {},
   "outputs": [],
   "source": [
    "def func(val):\n",
    "    fun = sym.poly(x**2 + 2*x + 3) # sym.poly(): SymPy 다항식 객체 생성\n",
    "    # fun.subs(x, val): x에 특정 값(val)을 대입한 결과 반환\n",
    "    return fun.subs(x, val), fun \n",
    "\n",
    "def func_gradient(fun, val):\n",
    "    _, function = fun(val)\n",
    "    diff = sym.diff(function, x) # sym.diff(function, x) 는 함수의 x에 대한 미분을 계산함\n",
    "    return diff.subs(x, val), diff\n",
    "\n",
    "def gradient_descent(fun, init_point, learning_rate=1e-2, epsilon=1e-5):\n",
    "    cnt = 0\n",
    "    val = init_point\n",
    "    diff, _ = func_gradient(fun, init_point)\n",
    "    while np.abs(diff) > epsilon:\n",
    "        val = val - learning_rate * diff\n",
    "        diff, _ = func_gradient(fun, val)\n",
    "        cnt += 1\n",
    "        \n",
    "    print(f\"함수 : {fun(val)[1]}, 연산횟수 : {cnt}, 최소점 : ({val}, {fun(val)[0]})\")"
   ]
  },
  {
   "cell_type": "code",
   "execution_count": null,
   "id": "b1f94fa2",
   "metadata": {},
   "outputs": [
    {
     "name": "stdout",
     "output_type": "stream",
     "text": [
      "함수 : Poly(x**2 + 2*x + 3, x, domain='ZZ'), 연산횟수 : 568, 최소점 : (-1.00000491836263, 2.00000000002419)\n"
     ]
    }
   ],
   "source": [
    "gradient_descent(fun = func, init_point = np.random.uniform(-2,2)) #init point : 시작점"
   ]
  },
  {
   "cell_type": "markdown",
   "id": "801118db",
   "metadata": {},
   "source": [
    "---\n",
    "\n",
    "이번에는 벡터가 입력인 다변수 함수에 대해 편미분하고, \n",
    "\n",
    "각 변수별로 편미분을 계산한 gradient 벡터를 이용하여 gradient descent를 구할것임.\n",
    "\n",
    "\n",
    "`f(x,y) = x**2 + 2*y**2`\n",
    "\n",
    "벡터는 절대값 대신 norm(노름)을 계산해서 종료조건(eps)을 설정"
   ]
  },
  {
   "cell_type": "code",
   "execution_count": null,
   "id": "141a09ee",
   "metadata": {},
   "outputs": [],
   "source": [
    "def eval_(fun, val):\n",
    "    val_x, val_y = val\n",
    "    fun_eval = fun.subs(x, val_x).subs(y, val_y)\n",
    "    return fun_eval\n",
    "\n",
    "def func_multi(val):\n",
    "    x_, y_ = val # symbolic과 겹치지 않기 위해 _ 추가\n",
    "    func = sym.poly(x**2 + 2*y**2)\n",
    "    return eval_(func, (x_, y_)), func\n",
    "\n",
    "def func_gradient(fun, val):\n",
    "    x_, y_ = val\n",
    "    _, function = fun(val)\n",
    "    diff_x = sym.diff(function, x) # x에 대한 편미분\n",
    "    diff_y = sym.diff(function, y) # y에 대한 편미분\n",
    "    grad_vec = np.array([eval_(diff_x, (x_, y_)), eval_(diff_y, (x_, y_))], dtype=np.float32)\n",
    "    return grad_vec, (diff_x, diff_y)\n",
    "\n",
    "def gradient_descent(fun, init_point, learning_rate=1e-2, epsilon=1e-5):\n",
    "    cnt=0\n",
    "    val = init_point\n",
    "    diff, _ = func_gradient(fun, init_point)\n",
    "    \n",
    "    # np.linalg.norm(diff) or np.linalg.norm(diff, ord=2) : L2 norm (유클리드 노름)\n",
    "    # np.linalg.norm(diff, ord=1) : L1 norm (맨해튼 노름)\n",
    "    \n",
    "    while np.linalg.norm(diff) > epsilon:\n",
    "        val = val - learning_rate * diff\n",
    "        diff, _ = func_gradient(fun, val)\n",
    "        cnt += 1\n",
    "    \n",
    "    print(f\"함수 : {fun(val)[1]}, 연산횟수 : {cnt}, 최소점 : ({val}, {fun(val)[0]})\")\n",
    "    "
   ]
  },
  {
   "cell_type": "code",
   "execution_count": 19,
   "id": "0a4ab9d8",
   "metadata": {},
   "outputs": [
    {
     "name": "stdout",
     "output_type": "stream",
     "text": [
      "함수 : Poly(x**2 + 2*y**2, x, y, domain='ZZ'), 연산횟수 : 554, 최소점 : ([-4.91747969e-06 -1.82817535e-10], 2.41816065913675E-11)\n"
     ]
    }
   ],
   "source": [
    "pt = [np.random.uniform(-2,2), np.random.uniform(-2,2)]\n",
    "gradient_descent(fun = func_multi, init_point = pt)"
   ]
  }
 ],
 "metadata": {
  "kernelspec": {
   "display_name": "venv",
   "language": "python",
   "name": "python3"
  },
  "language_info": {
   "codemirror_mode": {
    "name": "ipython",
    "version": 3
   },
   "file_extension": ".py",
   "mimetype": "text/x-python",
   "name": "python",
   "nbconvert_exporter": "python",
   "pygments_lexer": "ipython3",
   "version": "3.9.13"
  }
 },
 "nbformat": 4,
 "nbformat_minor": 5
}
